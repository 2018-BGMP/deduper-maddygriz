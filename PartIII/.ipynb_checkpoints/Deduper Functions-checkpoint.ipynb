{
 "cells": [
  {
   "cell_type": "raw",
   "metadata": {},
   "source": [
    "#*******************************************************************************\n",
    "#Function\t  : writeToFile\n",
    "#Description  : write unique reads to a file\n",
    "#Parameters\t  : read - unique read to be written to a file\n",
    "#               file - output file\n",
    "#Returned\t  : none\n",
    "#Test Case    : header:CTGTTCAC\t0\t2\t76814284\t36\t71M\t*\t0\t0\t\n",
    "#               sequence\tQS\trand1\trand2\trand3\trand4\trand5\trand6\trand7\trand8\n",
    "#Results      : same as above in file\n",
    "#*******************************************************************************"
   ]
  },
  {
   "cell_type": "code",
   "execution_count": 2,
   "metadata": {
    "collapsed": true
   },
   "outputs": [],
   "source": [
    "def writeToFile(out, dictionary):\n",
    "    for value in dictionary.values():\n",
    "        out.write(str(value))\n",
    "        out.write(\"\\n\")\n",
    "\n",
    "out = open(\"out.txt\", \"w\")\n",
    "\n",
    "a = {'a': 1,\n",
    "    'b': 2,\n",
    "    'c': \"3, asb\" ,\n",
    "    'd': 4,\n",
    "    'e': 5}\n",
    "\n",
    "writeToFile(out, a)\n",
    "\n",
    "out.close()\n",
    "\n",
    "##output in out.txt as follows\n",
    "#1\n",
    "#2\n",
    "#3, asb\n",
    "#4\n",
    "#5"
   ]
  },
  {
   "cell_type": "raw",
   "metadata": {},
   "source": [
    "#*******************************************************************************\n",
    "#Function\t  : adjustPosForward\n",
    "#Description  : adjust the left most position taking into account soft clipping \n",
    "#Parameters\t  : read - sam file read with information on soft clipping and position\n",
    "#Returned\t  : position - adjusted position of read based on CIGAR string\n",
    "#Test Case    : | header:CTGTTCAC |\t0\t| 2\t| 76814284 |\t36 |\t71M\t| *\t| 0\t| 0\t|\n",
    "#             sequence\t| QS\t| rand1\t| rand2\t| rand3\t| rand4 |\trand5\t|\n",
    "#             rand6\t| rand7\t| rand8 | UMI | adjPos |\n",
    "\n",
    "#             | header:AATTCGAG\t| 0\t| 2\t| 82938523\t| 36\t| 4S68M\t| *\t| 0\t| 0 |\t\n",
    "#             sequence\t| QS\t| rand1\t| rand2\t| rand3\t| rand4\t| rand5\t| rand6\t|\n",
    "#             rand7\t| rand8 | UMI | adjPos |\n",
    "\n",
    "#             | header:AATTCGAG\t| 0\t| 2\t| 82938527\t| 36\t| 68M\t| *\t| 0\t| 0 |\t\n",
    "#             sequence\t| QS | rand1\t| rand2\t| rand3\t| rand4\t| rand5\t| rand6\t| \n",
    "#             rand7\t| rand8 | UMI | adjPos |\n",
    "\n",
    "#Results      : | header:CTGTTCAC |\t0\t| 2\t| 76814284 |\t36 |\t71M\t| *\t| 0\t| 0\t|\n",
    "#             sequence\t| QS\t| rand1\t| rand2\t| rand3\t| rand4 |\trand5\t|\n",
    "#             rand6\t| rand7\t| rand8 | UMI | 76814284 |\n",
    "\n",
    "#             | header:AATTCGAG\t| 0\t| 2\t| 82938523\t| 36\t| 4S68M\t| *\t| 0\t| 0 |\t\n",
    "#             sequence\t| QS\t| rand1\t| rand2\t| rand3\t| rand4\t| rand5\t| rand6\t|\n",
    "#             rand7\t| rand8 | UMI | 82938527 |\n",
    "\n",
    "#             | header:AATTCGAG\t| 0\t| 2\t| 82938527\t| 36\t| 68M\t| *\t| 0\t| 0 |\t\n",
    "#             sequence\t| QS | rand1\t| rand2\t| rand3\t| rand4\t| rand5\t| rand6\t| \n",
    "#             rand7\t| rand8 | UMI | 82938527 |\n",
    "#*******************************************************************************"
   ]
  },
  {
   "cell_type": "code",
   "execution_count": 3,
   "metadata": {
    "collapsed": true
   },
   "outputs": [],
   "source": [
    "import re"
   ]
  },
  {
   "cell_type": "code",
   "execution_count": 32,
   "metadata": {
    "scrolled": false
   },
   "outputs": [
    {
     "name": "stdout",
     "output_type": "stream",
     "text": [
      "3S89M2S\n",
      "3S\n",
      "76814284 -3\n",
      "76814281\n",
      "40M1I30M\n",
      "40M\n",
      "130171653 0\n",
      "130171653\n",
      "71M\n",
      "71M\n",
      "76743835 0\n",
      "76743835\n",
      "71M\n",
      "71M\n",
      "76765947 0\n",
      "76765947\n",
      "71M\n",
      "71M\n",
      "76710746 0\n",
      "76710746\n",
      "4S71M\n",
      "4S\n",
      "119767599 -4\n",
      "119767595\n",
      "71M\n",
      "71M\n",
      "76730180 0\n",
      "76730180\n",
      "71M5S\n",
      "71M\n",
      "76720104 0\n",
      "76720104\n",
      "71M\n",
      "71M\n",
      "76729275 0\n",
      "76729275\n",
      "71M\n",
      "71M\n",
      "76750573 0\n",
      "76750573\n"
     ]
    }
   ],
   "source": [
    "def adjustPosFoward(read):\n",
    "    adjustment = 0\n",
    "    unit = \"\"\n",
    "    first = True\n",
    "    read = read.strip()\n",
    "    read = read.split(\"\\t\")\n",
    "    position = int(read[3])\n",
    "    cigar = read[5]\n",
    "    print(cigar)\n",
    "    for char in cigar:\n",
    "        if str.isdigit(char): \n",
    "            unit = unit + char\n",
    "        else:\n",
    "            unit = unit + char\n",
    "            print(unit)\n",
    "            #adjust for left S\n",
    "            mMatch = re.match(\"([0-9]+)S\", unit)\n",
    "            if mMatch:\n",
    "                adjust = mMatch.group(1)\n",
    "                if first == True:\n",
    "                    adjustment = adjustment - int(adjust)\n",
    "            break\n",
    "    print(position, adjustment)\n",
    "    return (position + adjustment)\n",
    "    \n",
    "file = open(\"lines.sam\", \"r\")\n",
    "\n",
    "for line in file:\n",
    "    print(adjustPosFoward(line))  "
   ]
  },
  {
   "cell_type": "raw",
   "metadata": {},
   "source": [
    "#*******************************************************************************\n",
    "#Function\t  : adjustPosReverse\n",
    "#Description  : adjust the left most position to create right most mapping position \n",
    "#              taking into account soft clipping \n",
    "#Parameters\t  : read - sam file read with information on soft clipping and position\n",
    "#Returned\t  : position - adjusted position of read based on CIGAR string\n",
    "#Test Case    : | header:CTGTTCAC |\t0\t| 2\t| 76814284 |\t36 |\t71M\t| *\t| 0\t| 0\t|\n",
    "#             sequence\t| QS\t| rand1\t| rand2\t| rand3\t| rand4 |\trand5\t|\n",
    "#             rand6\t| rand7\t| rand8 | UMI | adjPos |\n",
    "\n",
    "#             | header:AATTCGAG\t| 0\t| 2\t| 82938523\t| 36\t| 4S68M\t| *\t| 0\t| 0 |\t\n",
    "#             sequence\t| QS\t| rand1\t| rand2\t| rand3\t| rand4\t| rand5\t| rand6\t|\n",
    "#             rand7\t| rand8 | UMI | adjPos |\n",
    "\n",
    "#             | header:AATTCGAG\t| 0\t| 2\t| 82938527\t| 36\t| 68M\t| *\t| 0\t| 0 |\t\n",
    "#             sequence\t| QS | rand1\t| rand2\t| rand3\t| rand4\t| rand5\t| rand6\t| \n",
    "#             rand7\t| rand8 | UMI | adjPos |\n",
    "\n",
    "#Results     : | header:CTGTTCAC |\t0\t| 2\t| 76814284 |\t36 |\t71M\t| *\t| 0\t| 0\t|\n",
    "#             sequence\t| QS\t| rand1\t| rand2\t| rand3\t| rand4 |\trand5\t|\n",
    "#             rand6\t| rand7\t| rand8 | UMI | 76814284 |\n",
    "\n",
    "#             | header:AATTCGAG\t| 0\t| 2\t| 82938523\t| 36\t| 4S68M\t| *\t| 0\t| 0 |\t\n",
    "#             sequence\t| QS\t| rand1\t| rand2\t| rand3\t| rand4\t| rand5\t| rand6\t|\n",
    "#             rand7\t| rand8 | UMI | 82938527 |\n",
    "\n",
    "#             | header:AATTCGAG\t| 0\t| 2\t| 82938527\t| 36\t| 68M\t| *\t| 0\t| 0 |\t\n",
    "#             sequence\t| QS | rand1\t| rand2\t| rand3\t| rand4\t| rand5\t| rand6\t| \n",
    "#             rand7\t| rand8 | UMI | 82938527 |\n",
    "#*******************************************************************************"
   ]
  },
  {
   "cell_type": "code",
   "execution_count": 56,
   "metadata": {},
   "outputs": [
    {
     "name": "stdout",
     "output_type": "stream",
     "text": [
      "3S89M2S\n",
      "3S\n",
      "89M\n",
      "2S\n",
      "76814284 91\n",
      "76814375\n",
      "40M1I30M\n",
      "40M\n",
      "1I\n",
      "30M\n",
      "130171653 69\n",
      "130171722\n",
      "71M\n",
      "71M\n",
      "76743835 71\n",
      "76743906\n",
      "71M\n",
      "71M\n",
      "76765947 71\n",
      "76766018\n",
      "71M\n",
      "71M\n",
      "76710746 71\n",
      "76710817\n",
      "4S71M\n",
      "4S\n",
      "71M\n",
      "119767599 71\n",
      "119767670\n",
      "71M\n",
      "71M\n",
      "76730180 71\n",
      "76730251\n",
      "71M5S\n",
      "71M\n",
      "5S\n",
      "76720104 76\n",
      "76720180\n",
      "71M\n",
      "71M\n",
      "76729275 71\n",
      "76729346\n",
      "71M\n",
      "71M\n",
      "76750573 71\n",
      "76750644\n"
     ]
    }
   ],
   "source": [
    "def adjustPosReverse(read):\n",
    "    adjustment = 0\n",
    "    unit = \"\"\n",
    "    first = True\n",
    "    read = read.strip()\n",
    "    read = read.split(\"\\t\")\n",
    "    position = int(read[3])\n",
    "    cigar = read[5]\n",
    "    print(cigar)\n",
    "    for char in cigar:\n",
    "        if str.isdigit(char): \n",
    "            unit = unit + char\n",
    "        else:\n",
    "            unit = unit + char\n",
    "            print(unit)\n",
    "            #adjust for left S IGNORE\n",
    "            #if first:\n",
    "                #adjustment = adjustment #+ adjustPos(\"S\", unit)\n",
    "            #adjust for right S\n",
    "            if not first:\n",
    "                adjustment = adjustment + adjustPos(\"S\", unit)\n",
    "            #adjust for M\n",
    "            adjustment = adjustment + adjustPos(\"M\", unit)\n",
    "            #adjust for I IGNORE\n",
    "            #adjustment = adjustment #- adjustPos(\"I\", unit)\n",
    "            #adjust for D\n",
    "            adjustment = adjustment + adjustPos(\"D\", unit)\n",
    "            #adjust for N\n",
    "            adjustment = adjustment + adjustPos(\"N\", unit)\n",
    "            unit = \"\"\n",
    "            first = False\n",
    "    print(position, adjustment)\n",
    "    return position + adjustment\n",
    "\n",
    "file = open(\"lines.sam\", \"r\")\n",
    "\n",
    "for line in file:\n",
    "    print(adjustPosReverse(line))"
   ]
  },
  {
   "cell_type": "raw",
   "metadata": {},
   "source": [
    "#*******************************************************************************\n",
    "#Function\t  : adjustPos\n",
    "#Description  : adjust the left most position to create right most mapping position \n",
    "#              taking into account soft clipping \n",
    "#Parameters\t  : letter - what condtion is being tested for in the cigar string\n",
    "#             : unit   - one number and letter unit from the cigar string\n",
    "#Returned\t  : int    - number that the position needs to be changed by\n",
    "#*******************************************************************************"
   ]
  },
  {
   "cell_type": "code",
   "execution_count": 51,
   "metadata": {},
   "outputs": [],
   "source": [
    "def adjustPos(letter, unit):\n",
    "    condition = re.match(\"([0-9]+)%s\" % letter, unit)\n",
    "    if condition:\n",
    "        return int(condition.group(1))\n",
    "    else:\n",
    "        return 0"
   ]
  },
  {
   "cell_type": "raw",
   "metadata": {},
   "source": [
    "#*******************************************************************************\n",
    "#Function\t  : getUMI\n",
    "#Description  : get the UMI from the header line (last 8 characters in col 0) \n",
    "#Parameters\t  : read - sam file read with header column\n",
    "#Returned\t  : UMI - the UMI for the read\n",
    "#Test Case    : lines.txt (first 10 lines of sam file 1)\n",
    "#Results      : CTGTTCAC\n",
    "#               TTCGCCTA\n",
    "#               GTTCACCT\n",
    "#               ATCCATGG\n",
    "#               AGCTACCA\n",
    "#               TATAGNGC\t\n",
    "#               ACGACTTG\n",
    "#               ATCGTTGG\n",
    "#               TGAGTGAG\n",
    "#               GAGAAGTC\t\n",
    "#*******************************************************************************"
   ]
  },
  {
   "cell_type": "code",
   "execution_count": 34,
   "metadata": {},
   "outputs": [
    {
     "name": "stdout",
     "output_type": "stream",
     "text": [
      "CTGTTCAC\n",
      "TTCGCCTA\n",
      "GTTCACCT\n",
      "ATCCATGG\n",
      "AGCTACCA\n",
      "TATAGNGC\n",
      "ACGACTTG\n",
      "ATCGTTGG\n",
      "TGAGTGAG\n",
      "GAGAAGTC\n"
     ]
    }
   ],
   "source": [
    "def getUMI(read):\n",
    "    read = read.strip()\n",
    "    read = read.split(\"\\t\")\n",
    "    read = read[0]\n",
    "    UMI = read[-8:]\n",
    "    return UMI\n",
    "    \n",
    "file = open(\"lines.sam\", \"r\")\n",
    "\n",
    "for line in file:\n",
    "    print(getUMI(line))"
   ]
  },
  {
   "cell_type": "raw",
   "metadata": {},
   "source": [
    "#*******************************************************************************\n",
    "#Function\t  : getChrom\n",
    "#Description  : get the chromosome from the read (col 2) \n",
    "#Parameters\t  : read - sam file read with header column\n",
    "#Returned\t  : chrom - the chromosome for the read\n",
    "#Test Case    : lines.txt (first 10 lines of sam file 1)\n",
    "#Results      : 2\n",
    "#               2\n",
    "#               2\n",
    "#               2\n",
    "#               2\n",
    "#               2\t\n",
    "#               2\n",
    "#               2\n",
    "#               2\n",
    "#               2\t\n",
    "#*******************************************************************************"
   ]
  },
  {
   "cell_type": "code",
   "execution_count": 35,
   "metadata": {},
   "outputs": [
    {
     "name": "stdout",
     "output_type": "stream",
     "text": [
      "2\n",
      "2\n",
      "2\n",
      "2\n",
      "2\n",
      "2\n",
      "2\n",
      "2\n",
      "2\n",
      "2\n"
     ]
    }
   ],
   "source": [
    "def getChrom(read):\n",
    "    read = read.strip()\n",
    "    read = read.split(\"\\t\")\n",
    "    return read[2]\n",
    "    \n",
    "file = open(\"lines.sam\", \"r\")\n",
    "\n",
    "for line in file:\n",
    "    print(getChrom(line))"
   ]
  },
  {
   "cell_type": "raw",
   "metadata": {},
   "source": [
    "#*******************************************************************************\n",
    "#Function\t  : getStranded\n",
    "#Description  : get the strandedness from bitwise flag (col 1) \n",
    "#Parameters\t  : read - sam file read \n",
    "#Returned\t  : chrom - the chromosome for the read\n",
    "#Test Case    : lines.txt (first 10 lines of sam file 1)\n",
    "#Results      : 2\n",
    "#               2\n",
    "#               2\n",
    "#               2\n",
    "#               2\n",
    "#               2\t\n",
    "#               2\n",
    "#               2\n",
    "#               2\n",
    "#               2\t\n",
    "#*******************************************************************************"
   ]
  },
  {
   "cell_type": "code",
   "execution_count": null,
   "metadata": {
    "collapsed": true
   },
   "outputs": [],
   "source": [
    "def getStranded(read):\n",
    "    read = read.strip()\n",
    "    read = read.split(\"\\t\")\n",
    "    read = read[1]\n",
    "    print(read & 16 == 16)\n",
    "    \n",
    "file = open(\"lines.sam\", \"r\")\n",
    "\n",
    "for line in file:\n",
    "    print(getStranded(line))"
   ]
  }
 ],
 "metadata": {
  "kernelspec": {
   "display_name": "Python 3",
   "language": "python",
   "name": "python3"
  },
  "language_info": {
   "codemirror_mode": {
    "name": "ipython",
    "version": 3
   },
   "file_extension": ".py",
   "mimetype": "text/x-python",
   "name": "python",
   "nbconvert_exporter": "python",
   "pygments_lexer": "ipython3",
   "version": "3.6.3"
  }
 },
 "nbformat": 4,
 "nbformat_minor": 2
}
